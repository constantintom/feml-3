{
 "cells": [
  {
   "cell_type": "markdown",
   "id": "794c3c02",
   "metadata": {},
   "source": [
    "# Домашнее задание № 2\n",
    "# \"Функции потерь и оптимизация\""
   ]
  },
  {
   "cell_type": "markdown",
   "id": "cd4900dc",
   "metadata": {},
   "source": [
    "* Прочитать про методы оптимизации для нейронных сетей https://habr.com/post/318970/\n",
    "* Взять код градиентного спуска для линейной регрессии (с занятия) и обучить ее\n",
    "    * Методом nesterov momentum\n",
    "    * Методом rmsprop\n",
    "* Задание со звездочкой - доработать код логистической регрессии из первого занятия и обучить ее теми же методами для задачи классификации Ирисов (взять только два цветка - Iris Versicolor и Iris Virginica)"
   ]
  },
  {
   "cell_type": "markdown",
   "id": "f8c08926",
   "metadata": {},
   "source": [
    "## Линейная регрессия"
   ]
  },
  {
   "cell_type": "code",
   "execution_count": 31,
   "id": "9a913ce1",
   "metadata": {},
   "outputs": [],
   "source": [
    "import numpy as np\n",
    "# from sklearn.datasets import make_blobs\n",
    "from sklearn.model_selection import train_test_split\n",
    "from sklearn.metrics import accuracy_score\n",
    "import matplotlib.pyplot as plt\n",
    "%matplotlib inline\n",
    "# from jupyterthemes import jtplot\n",
    "# jtplot.style()"
   ]
  },
  {
   "cell_type": "code",
   "execution_count": 32,
   "id": "e93943ac",
   "metadata": {},
   "outputs": [
    {
     "data": {
      "image/png": "[encoded data removed]",
      "text/plain": [
       "<Figure size 432x288 with 1 Axes>"
      ]
     },
     "metadata": {
      "needs_background": "light"
     },
     "output_type": "display_data"
    }
   ],
   "source": [
    "N = 100\n",
    "X = np.random.uniform(low=0, high=100, size=N)\n",
    "Y = 2*X + 1 + np.random.normal(scale=5, size=N)\n",
    "plt.scatter(X, Y)\n",
    "plt.show()\n",
    "theta0, theta1 = np.random.normal(size=(2,))"
   ]
  },
  {
   "cell_type": "code",
   "execution_count": 33,
   "id": "747242f8",
   "metadata": {
    "id": "MTkcSE5sOGrw"
   },
   "outputs": [],
   "source": [
    "def predict_proba(theta0, theta1, X):\n",
    "    return theta0 + (theta1 * X)"
   ]
  },
  {
   "cell_type": "code",
   "execution_count": 34,
   "id": "1901aaf5",
   "metadata": {
    "id": "lwT3pbTaOaUX"
   },
   "outputs": [],
   "source": [
    "def mse_loss(theta0, theta1, X, Y):\n",
    "    probas = predict_proba(theta0, theta1, X)\n",
    "    loss = np.sum(np.square(probas - Y)) / (2 * len(probas))\n",
    "    return loss"
   ]
  },
  {
   "cell_type": "code",
   "execution_count": 35,
   "id": "f088c69e",
   "metadata": {
    "id": "cay82oTBQMHY"
   },
   "outputs": [],
   "source": [
    "def grad(theta0, theta1, X, Y):\n",
    "    probas = predict_proba(theta0, theta1, X)\n",
    "    der_theta0 =  np.sum(probas - Y) / len(probas)\n",
    "    der_theta1 = np.sum((probas - Y) * X) / len(probas)\n",
    "    return der_theta0, der_theta1\n",
    "\n",
    "def der_theta1(X, Y, theta0, theta1):\n",
    "    total_cost = 0\n",
    "    for i in range(len(X)):\n",
    "        total_cost += (theta0 + theta1*X[i] - y[i]) * X[i]\n",
    "    return total_cost / (len(X))  "
   ]
  },
  {
   "cell_type": "code",
   "execution_count": 73,
   "id": "629bc0da",
   "metadata": {
    "id": "W7wIuxVfStDc"
   },
   "outputs": [],
   "source": [
    "# Градиентный спуск\n",
    "def learn_sgd(theta0, theta1, X, Y, num_epochs=20, learning_rate=0.0001):\n",
    "    predict = []\n",
    "    losses = []\n",
    "    print (\"Градиентный спуск\")\n",
    "    for e in range(num_epochs):\n",
    "        dt0, dt1 = grad(theta0, theta1, X, Y)            \n",
    "        theta0 -= learning_rate * dt0\n",
    "        theta1 -= learning_rate * dt1\n",
    "        loss = mse_loss(theta0, theta1, X, Y)\n",
    "        losses.append(loss)\n",
    "        pred = predict_proba(theta0, theta1, X)\n",
    "        predict.append(pred)\n",
    "        print(\"t0:\", theta0, \"t1:\", theta1, \"mse_loss:\", loss)\n",
    "    return losses, theta0, theta1, predict\n"
   ]
  },
  {
   "cell_type": "code",
   "execution_count": 74,
   "id": "9bd3a7f7",
   "metadata": {},
   "outputs": [],
   "source": [
    "# Метод Nesterov Accelerated Gradient\n",
    "def learn_NR(theta0, theta1, X, Y, num_epochs=20, nabla=0.0001, gamma=0.9):\n",
    "    predict = []\n",
    "    losses = []\n",
    "    vt0, vt1 = 0., 0.\n",
    "    print()\n",
    "    print( \"Метод Nesterov Accelerated Gradient\")\n",
    "    for e in range(num_epochs):\n",
    "        dt0, dt1 = grad(theta0, theta1, X, Y)\n",
    "        vt0 = gamma * vt0 + nabla * dt0\n",
    "        vt1 = gamma * vt1 + nabla * dt1\n",
    "        theta0 -= vt0\n",
    "        theta1 -= vt1        \n",
    "        loss = mse_loss(theta0, theta1, X, Y)\n",
    "        losses.append(loss)\n",
    "        pred = predict_proba(theta0, theta1, X)\n",
    "        predict.append(pred)\n",
    "        print(\"t0:\", theta0, \"t1:\", theta1, \"mse_loss:\", loss)\n",
    "    return losses, theta0, theta1, predict\n"
   ]
  },
  {
   "cell_type": "code",
   "execution_count": 75,
   "id": "7061ce3b",
   "metadata": {},
   "outputs": [],
   "source": [
    "# Метод RMSProp\n",
    "def learn_RMSProp(theta0, theta1, X, Y, num_epochs=20, nabla=0.1, gamma=0.95):\n",
    "    predict = []\n",
    "    losses = []\n",
    "    vt0, vt1 = 0., 0.\n",
    "    print()\n",
    "    print( \"Метод RMSProp\")\n",
    "    for e in range(num_epochs):\n",
    "        dt0, dt1 = grad(theta0, theta1, X, Y)\n",
    "        vt0 = gamma * vt0 + (1-gamma) * dt0**2\n",
    "        vt1 = gamma * vt1 + (1-gamma) * dt1**2\n",
    "        theta0 -= nabla * dt0 / (vt0**0.5+ 10**(-6))\n",
    "        theta1 -= nabla * dt1 / (vt1**0.5 + 10**(-6))    \n",
    "        loss = mse_loss(theta0, theta1, X, Y)\n",
    "        losses.append(loss)\n",
    "        pred = predict_proba(theta0, theta1, X)\n",
    "        predict.append(pred)\n",
    "        print(\"t0:\", theta0, \"t1:\", theta1, \"mse_loss:\", loss)\n",
    "    return losses, theta0, theta1, predict"
   ]
  },
  {
   "cell_type": "code",
   "execution_count": 76,
   "id": "ee9dbbc3",
   "metadata": {},
   "outputs": [
    {
     "name": "stdout",
     "output_type": "stream",
     "text": [
      "Градиентный спуск\n",
      "t0: 2.079655940692471 t1: 1.1046986303136186 mse_loss: 1359.031592416944\n",
      "t0: 2.084086963813395 t1: 1.4129321660761083 mse_loss: 576.186512040674\n",
      "t0: 2.0869489071827765 t1: 1.6125496024178843 mse_loss: 247.85503547692562\n",
      "t0: 2.0887946877897616 t1: 1.741825389416192 mse_loss: 110.15019137301846\n",
      "t0: 2.0899823841620444 t1: 1.825546717555631 mse_loss: 52.39567812434991\n",
      "t0: 2.0907438940971437 t1: 1.8797661966288923 mse_loss: 28.17297164053521\n",
      "t0: 2.0912293985870343 t1: 1.9148797721271156 mse_loss: 18.013772498023176\n",
      "t0: 2.091536157418532 t1: 1.9376200366972578 mse_loss: 13.752920561454676\n",
      "t0: 2.091727157698107 t1: 1.952347132837998 mse_loss: 11.965882512043095\n",
      "t0: 2.091843190956475 t1: 1.9618847636315913 mse_loss: 11.216381748097128\n",
      "t0: 2.0919106744887177 t1: 1.9680616076359416 mse_loss: 10.902032401373347\n",
      "t0: 2.0919467165883256 t1: 1.972061948456911 mse_loss: 10.770189031688338\n",
      "t0: 2.091962396879657 t1: 1.9746527484745482 mse_loss: 10.714890125317334\n",
      "t0: 2.0919648907175166 t1: 1.9763307056837407 mse_loss: 10.69169457783081\n",
      "t0: 2.091958844984768 t1: 1.9774174902270443 mse_loss: 10.681963435390756\n",
      "t0: 2.091947269082466 t1: 1.9781214212071676 mse_loss: 10.67787937201858\n",
      "t0: 2.091932111950357 t1: 1.9785774096488278 mse_loss: 10.676163738816555\n",
      "t0: 2.09191463575525 t1: 1.9788728262460882 mse_loss: 10.675441444273334\n",
      "t0: 2.091895657898018 t1: 1.9790642537593064 mse_loss: 10.675135764035804\n",
      "t0: 2.0918757077414836 t1: 1.9791883361547908 mse_loss: 10.675004815307998\n",
      "\n",
      "Метод Nesterov Accelerated Gradient\n",
      "t0: 2.079655940692471 t1: 1.1046986303136186 mse_loss: 1359.031592416944\n",
      "t0: 2.0902554506359596 t1: 1.841287221566989 mse_loss: 44.29584509574856\n",
      "t0: 2.100476386940748 t1: 2.5528895167321584 mse_loss: 590.2494776073115\n",
      "t0: 2.106734157256906 t1: 2.991248004447658 mse_loss: 1814.9192272200464\n",
      "t0: 2.1071935946002487 t1: 3.029217435308765 mse_loss: 1952.8646860431522\n",
      "t0: 2.1022412554331686 t1: 2.6934573922518066 mse_loss: 909.1855798302397\n",
      "t0: 2.09412753491701 t1: 2.1396574203767704 mse_loss: 55.92513490888498\n",
      "t0: 2.0859877356301366 t1: 1.5847716994109946 mse_loss: 285.1434688774874\n",
      "t0: 2.0806491580055395 t1: 1.2244416433580376 mse_loss: 1015.1632539869539\n",
      "t0: 2.0796659756917246 t1: 1.1661864937811321 mse_loss: 1176.1649439215544\n",
      "t0: 2.08289921477103 t1: 1.400327596082039 mse_loss: 601.6620528769457\n",
      "t0: 2.0887353382231306 t1: 1.8151187766557961 mse_loss: 58.25136632797157\n",
      "t0: 2.0948025529851644 t1: 2.2463305254449972 mse_loss: 136.21312315851276\n",
      "t0: 2.0988826559920475 t1: 2.540369988016593 mse_loss: 565.179812299319\n",
      "t0: 2.0996775490645763 t1: 2.60734078381306 mse_loss: 705.483719554271\n",
      "t0: 2.097174851464891 t1: 2.4463512982379925 mse_loss: 394.8682839689013\n",
      "t0: 2.092523866921769 t1: 2.136928393205077 mse_loss: 54.38408270403488\n",
      "t0: 2.087514578717085 t1: 1.8029516553770701 mse_loss: 65.5675709079371\n",
      "t0: 2.0838829649725357 t1: 1.5645650804976436 mse_loss: 314.0074724796185\n",
      "t0: 2.0827047986689453 t1: 1.4962139476498493 mse_loss: 422.193086694194\n",
      "\n",
      "Метод RMSProp\n",
      "t0: 2.52001563276456 t1: 1.0759621637368302 mse_loss: 1429.0021995494596\n",
      "t0: 2.7711323440261237 t1: 1.3277972527128843 mse_loss: 736.4947139473309\n",
      "t0: 2.940797293379846 t1: 1.498601270883658 mse_loss: 397.687875087405\n",
      "t0: 3.062308218886604 t1: 1.6216023756106897 mse_loss: 219.2183791997299\n",
      "t0: 3.151174938274891 t1: 1.7122747635844375 mse_loss: 122.77741649414864\n",
      "t0: 3.2164508833588363 t1: 1.779642649054138 mse_loss: 70.42126654382504\n",
      "t0: 3.2641546263709924 t1: 1.8296961527099143 mse_loss: 42.17205743935567\n",
      "t0: 3.2986029010052857 t1: 1.8667239951673442 mse_loss: 27.115748417660775\n",
      "t0: 3.323023477689878 t1: 1.8939274281714276 mse_loss: 19.218283439131632\n",
      "t0: 3.3398783522585584 t1: 1.9137445462832523 mse_loss: 15.151279029004902\n",
      "t0: 3.351057682206293 t1: 1.9280449641013069 mse_loss: 13.098312386635477\n",
      "t0: 3.358010445886564 t1: 1.93826076024653 mse_loss: 12.083589027180793\n",
      "t0: 3.361840556616587 t1: 1.945482505162843 mse_loss: 11.592742181029992\n",
      "t0: 3.3633815143583323 t1: 1.9505335858153199 mse_loss: 11.36029051280373\n",
      "t0: 3.363255940752682 t1: 1.9540292928473522 mse_loss: 11.252277216828212\n",
      "t0: 3.3619234368939908 t1: 1.9564241982016246 mse_loss: 11.202706237359237\n",
      "t0: 3.3597189476152445 t1: 1.9580500628890558 mse_loss: 11.179866747176867\n",
      "t0: 3.356883253738806 t1: 1.9591459259584958 mse_loss: 11.16891405523465\n",
      "t0: 3.353586928432259 t1: 1.9598817221803233 mse_loss: 11.163084978356357\n",
      "t0: 3.3499489112955225 t1: 1.9603765822451864 mse_loss: 11.159383874511205\n"
     ]
    },
    {
     "data": {
      "image/png": "[encoded data removed]",
      "text/plain": [
       "<Figure size 1152x864 with 1 Axes>"
      ]
     },
     "metadata": {
      "needs_background": "light"
     },
     "output_type": "display_data"
    }
   ],
   "source": [
    "losses_sgd, theta0_sgd, theta1_sgd, predict_sgd = learn_sgd(theta0, theta1, X, Y)\n",
    "losses_nr, theta0_nr, theta1_nr, predict_nr = learn_NR(theta0, theta1, X, Y)\n",
    "losses_rms, theta0_rms, theta1_rmsr, predict_rms = learn_RMSProp(theta0, theta1, X, Y)\n",
    "fig, axes = plt.subplots(figsize=(16,12))\n",
    "axes.set_xticks(np.arange(0, 20, 1))\n",
    "axes.set_title('Оптимизация функции потерь линейной регрессии')\n",
    "axes.set_xlabel(\"Эпохи\")\n",
    "axes.set_ylabel('MSE')\n",
    "axes.plot(losses_sgd, 'r', label='Градиентный спуск')\n",
    "plt.plot(losses_nr, 'g', label='Nesterov Accelerated Gradient')\n",
    "plt.plot(losses_rms, 'brown', label='RMSProp')\n",
    "axes.legend()\n",
    "plt.show()"
   ]
  },
  {
   "cell_type": "code",
   "execution_count": 77,
   "id": "a45d81d2",
   "metadata": {},
   "outputs": [
    {
     "data": {
      "image/png": "[encoded data removed]",
      "text/plain": [
       "<Figure size 1152x864 with 1 Axes>"
      ]
     },
     "metadata": {
      "needs_background": "light"
     },
     "output_type": "display_data"
    }
   ],
   "source": [
    "# predict_sgd = learn_sgd(theta0, theta1, X, Y)[3]\n",
    "fig, axes = plt.subplots(figsize=(16,12))\n",
    "axes.set_title('Обучание модели')\n",
    "axes.scatter(X, Y, color='blue', marker = '*', label=\"Исходные данные\")\n",
    "axes.scatter(X, predict_sgd[19], color='red', label='Градиентный спуск')\n",
    "axes.scatter(X, predict_nr[losses_nr.index(min(losses_nr))], color='green', label='Nesterov Accelerated Gradient')\n",
    "axes.scatter(X, predict_rms[losses_rms.index(min(losses_rms))], color='brown', label='RMSProp')\n",
    "axes.legend()\n",
    "plt.show()"
   ]
  },
  {
   "cell_type": "markdown",
   "id": "3a53c3b5",
   "metadata": {},
   "source": [
    "## Логистическая регрессия"
   ]
  },
  {
   "cell_type": "code",
   "execution_count": 678,
   "id": "60d8b7d4",
   "metadata": {
    "id": "mYh4BKeJMa6K"
   },
   "outputs": [],
   "source": [
    "import pandas as pd\n",
    "import numpy as np\n",
    "from sklearn.datasets import load_iris"
   ]
  },
  {
   "cell_type": "code",
   "execution_count": 679,
   "id": "3d5cc25c",
   "metadata": {
    "id": "r6WvMMKSNLA8"
   },
   "outputs": [
    {
     "data": {
      "text/plain": [
       "array(['setosa', 'versicolor', 'virginica'], dtype='<U10')"
      ]
     },
     "execution_count": 679,
     "metadata": {},
     "output_type": "execute_result"
    }
   ],
   "source": [
    "data = load_iris()\n",
    "data.target_names"
   ]
  },
  {
   "cell_type": "code",
   "execution_count": 680,
   "id": "95ce585f",
   "metadata": {
    "colab": {
     "base_uri": "https://localhost:8080/"
    },
    "id": "5JfHyeBlNYb-",
    "outputId": "7fd8290b-1477-41a5-e540-ada0d56025bb"
   },
   "outputs": [
    {
     "data": {
      "text/plain": [
       "dict_keys(['data', 'target', 'frame', 'target_names', 'DESCR', 'feature_names', 'filename'])"
      ]
     },
     "execution_count": 680,
     "metadata": {},
     "output_type": "execute_result"
    }
   ],
   "source": [
    "data.keys()"
   ]
  },
  {
   "cell_type": "code",
   "execution_count": 681,
   "id": "d281c866",
   "metadata": {
    "colab": {
     "base_uri": "https://localhost:8080/",
     "height": 244
    },
    "id": "6FH3auJyNZLG",
    "outputId": "d8e282dd-b375-4cbb-9371-8a59bb5221a6"
   },
   "outputs": [
    {
     "data": {
      "text/html": [
       "<div>\n",
       "<style scoped>\n",
       "    .dataframe tbody tr th:only-of-type {\n",
       "        vertical-align: middle;\n",
       "    }\n",
       "\n",
       "    .dataframe tbody tr th {\n",
       "        vertical-align: top;\n",
       "    }\n",
       "\n",
       "    .dataframe thead th {\n",
       "        text-align: right;\n",
       "    }\n",
       "</style>\n",
       "<table border=\"1\" class=\"dataframe\">\n",
       "  <thead>\n",
       "    <tr style=\"text-align: right;\">\n",
       "      <th></th>\n",
       "      <th>sepal length (cm)</th>\n",
       "      <th>sepal width (cm)</th>\n",
       "      <th>petal length (cm)</th>\n",
       "      <th>petal width (cm)</th>\n",
       "      <th>target</th>\n",
       "    </tr>\n",
       "  </thead>\n",
       "  <tbody>\n",
       "    <tr>\n",
       "      <th>145</th>\n",
       "      <td>6.7</td>\n",
       "      <td>3.0</td>\n",
       "      <td>5.2</td>\n",
       "      <td>2.3</td>\n",
       "      <td>2</td>\n",
       "    </tr>\n",
       "    <tr>\n",
       "      <th>146</th>\n",
       "      <td>6.3</td>\n",
       "      <td>2.5</td>\n",
       "      <td>5.0</td>\n",
       "      <td>1.9</td>\n",
       "      <td>2</td>\n",
       "    </tr>\n",
       "    <tr>\n",
       "      <th>147</th>\n",
       "      <td>6.5</td>\n",
       "      <td>3.0</td>\n",
       "      <td>5.2</td>\n",
       "      <td>2.0</td>\n",
       "      <td>2</td>\n",
       "    </tr>\n",
       "    <tr>\n",
       "      <th>148</th>\n",
       "      <td>6.2</td>\n",
       "      <td>3.4</td>\n",
       "      <td>5.4</td>\n",
       "      <td>2.3</td>\n",
       "      <td>2</td>\n",
       "    </tr>\n",
       "    <tr>\n",
       "      <th>149</th>\n",
       "      <td>5.9</td>\n",
       "      <td>3.0</td>\n",
       "      <td>5.1</td>\n",
       "      <td>1.8</td>\n",
       "      <td>2</td>\n",
       "    </tr>\n",
       "  </tbody>\n",
       "</table>\n",
       "</div>"
      ],
      "text/plain": [
       "     sepal length (cm)  sepal width (cm)  petal length (cm)  petal width (cm)  \\\n",
       "145                6.7               3.0                5.2               2.3   \n",
       "146                6.3               2.5                5.0               1.9   \n",
       "147                6.5               3.0                5.2               2.0   \n",
       "148                6.2               3.4                5.4               2.3   \n",
       "149                5.9               3.0                5.1               1.8   \n",
       "\n",
       "     target  \n",
       "145       2  \n",
       "146       2  \n",
       "147       2  \n",
       "148       2  \n",
       "149       2  "
      ]
     },
     "execution_count": 681,
     "metadata": {},
     "output_type": "execute_result"
    }
   ],
   "source": [
    "df = pd.DataFrame(data['data'], columns=data['feature_names'])\n",
    "df['target'] = data['target']\n",
    "df.tail()"
   ]
  },
  {
   "cell_type": "code",
   "execution_count": 709,
   "id": "af6a7cc7",
   "metadata": {},
   "outputs": [],
   "source": [
    "# Взять только два цветка - Iris Versicolor и Iris Virginica\n",
    "X = df.iloc[50:, [0, 1, 2, 3]].values\n",
    "y = df.iloc[50:, 4].values"
   ]
  },
  {
   "cell_type": "code",
   "execution_count": 710,
   "id": "daca7a9b",
   "metadata": {},
   "outputs": [
    {
     "data": {
      "text/plain": [
       "(100, 4)"
      ]
     },
     "execution_count": 710,
     "metadata": {},
     "output_type": "execute_result"
    }
   ],
   "source": [
    "from sklearn.preprocessing import StandardScaler\n",
    "sc = StandardScaler()\n",
    "X = sc.fit_transform(X)\n",
    "X.shape"
   ]
  },
  {
   "cell_type": "code",
   "execution_count": 684,
   "id": "03fb9b00",
   "metadata": {},
   "outputs": [
    {
     "data": {
      "text/plain": [
       "(100,)"
      ]
     },
     "execution_count": 684,
     "metadata": {},
     "output_type": "execute_result"
    }
   ],
   "source": [
    "y.shape"
   ]
  },
  {
   "cell_type": "code",
   "execution_count": 685,
   "id": "1c78527a",
   "metadata": {
    "id": "vOd5BHpSN_0k"
   },
   "outputs": [],
   "source": [
    "COEFS = np.random.randn(5)"
   ]
  },
  {
   "cell_type": "code",
   "execution_count": 686,
   "id": "0e3b0688",
   "metadata": {
    "colab": {
     "base_uri": "https://localhost:8080/"
    },
    "id": "X7VKGoY9OGBy",
    "outputId": "6f2aabaf-0d20-44a9-a517-9f991729f10e"
   },
   "outputs": [
    {
     "data": {
      "text/plain": [
       "array([-0.06440339,  1.08451921,  0.37166824,  1.04949272, -0.03637885])"
      ]
     },
     "execution_count": 686,
     "metadata": {},
     "output_type": "execute_result"
    }
   ],
   "source": [
    "COEFS"
   ]
  },
  {
   "cell_type": "code",
   "execution_count": 687,
   "id": "3632a600",
   "metadata": {
    "id": "MTkcSE5sOGrw"
   },
   "outputs": [],
   "source": [
    "def predict_proba(coefs, x):\n",
    "    return 1. / (1. + np.exp( -(x.dot(coefs[:4]) + coefs[-1])))"
   ]
  },
  {
   "cell_type": "code",
   "execution_count": 688,
   "id": "96462737",
   "metadata": {
    "id": "sBLPFxmYOWSx"
   },
   "outputs": [],
   "source": [
    "def predict_class(coefs, x):\n",
    "    probas = predict_proba(coefs, x)\n",
    "    return np.where(probas > 0.5, 2, 1)"
   ]
  },
  {
   "cell_type": "code",
   "execution_count": 689,
   "id": "cc05ce53",
   "metadata": {
    "id": "lwT3pbTaOaUX"
   },
   "outputs": [],
   "source": [
    "def bce_loss(coefs, x, y):\n",
    "    probas = predict_proba(coefs, x)\n",
    "    filter_ones = y == 1\n",
    "    loss = -1. * (np.sum(np.log(probas[filter_ones])) + np.sum(np.log(1. - probas[~filter_ones]))) / len(y)\n",
    "    return loss"
   ]
  },
  {
   "cell_type": "code",
   "execution_count": 690,
   "id": "5d8229bd",
   "metadata": {
    "id": "cay82oTBQMHY"
   },
   "outputs": [],
   "source": [
    "def grad(coefs, x, y):\n",
    "    probas = predict_proba(coefs, x)\n",
    "    delta = probas - y\n",
    "    modified_x = x.T * delta\n",
    "    deltas = np.mean(modified_x, axis=1)\n",
    "    return deltas, np.mean(delta)"
   ]
  },
  {
   "cell_type": "code",
   "execution_count": 721,
   "id": "ae397ebb",
   "metadata": {
    "id": "W7wIuxVfStDc"
   },
   "outputs": [],
   "source": [
    "# Градиентный спуск\n",
    "def learn_sgd(coefs, x, y, num_epochs=20, learning_rate=0.0001):\n",
    "    losses = []\n",
    "    print (\"Градиентный спуск\")\n",
    "    print()\n",
    "    for e in range(num_epochs):\n",
    "        grad_coefs, grad_bias = grad(coefs, x, y)\n",
    "        coefs[:-1] = coefs[:-1] - learning_rate * grad_coefs\n",
    "        coefs[-1] = coefs[-1] - learning_rate * grad_bias\n",
    "        loss = bce_loss(coefs, x, y)\n",
    "        losses.append(loss)\n",
    "    return losses, coefs\n"
   ]
  },
  {
   "cell_type": "code",
   "execution_count": 722,
   "id": "e2abe1f3",
   "metadata": {},
   "outputs": [],
   "source": [
    "# Метод Nesterov Accelerated Gradient\n",
    "def learn_NR(coefs, x, y, num_epochs=20, nabla=0.0001, gamma=0.95):\n",
    "    losses = []\n",
    "    vt0, vt1 = 0., 0.\n",
    "    print( \"Метод Nesterov Accelerated Gradient\")\n",
    "    print()\n",
    "    for e in range(num_epochs):\n",
    "        grad_coefs, grad_bias = grad(coefs, x, y)\n",
    "        vt0 = gamma * vt0 + nabla * grad_coefs\n",
    "        vt1 = gamma * vt1 + nabla * grad_bias        \n",
    "        coefs[:-1] -=  vt0\n",
    "        coefs[-1] -= vt1\n",
    "        loss = bce_loss(coefs, x, y)\n",
    "        losses.append(loss)\n",
    "    return losses, coefs"
   ]
  },
  {
   "cell_type": "code",
   "execution_count": 723,
   "id": "7fc0418e",
   "metadata": {},
   "outputs": [],
   "source": [
    "# Метод RMSProp\n",
    "def learn_RMSProp(coefs, x, y, num_epochs=20, nabla=0.1, gamma=0.95):\n",
    "    losses = []\n",
    "    vt0, vt1 = 0., 0.\n",
    "    print( \"Метод RMSProp\")\n",
    "    print()\n",
    "    for e in range(num_epochs):\n",
    "        grad_coefs, grad_bias = grad(coefs, x, y)\n",
    "        vt0 = gamma * vt0 + (1-gamma) * grad_coefs**2\n",
    "        vt1 = gamma * vt1 + (1-gamma) * grad_bias**2\n",
    "        coefs[:-1] -= nabla * grad_coefs / (vt0**0.5+ 10**(-6))\n",
    "        coefs[-1] -= nabla * grad_bias / (vt1**0.5 + 10**(-6))\n",
    "        loss = bce_loss(coefs, x, y)\n",
    "        losses.append(loss)\n",
    "    return losses, coefs"
   ]
  },
  {
   "cell_type": "code",
   "execution_count": 724,
   "id": "4f9fdb67",
   "metadata": {
    "id": "uKE_aFrlT1aZ"
   },
   "outputs": [
    {
     "name": "stdout",
     "output_type": "stream",
     "text": [
      "Градиентный спуск\n",
      "\n",
      "[-0.01465495  0.45233277  0.99387363  1.6763802   0.63814478]\n"
     ]
    },
    {
     "data": {
      "text/plain": [
       "[2.5408223222518074,\n",
       " 2.540835499185875,\n",
       " 2.540848677335788,\n",
       " 2.540861856701548,\n",
       " 2.540875037283156,\n",
       " 2.540888219080616,\n",
       " 2.5409014020939322,\n",
       " 2.540914586323103,\n",
       " 2.5409277717681333,\n",
       " 2.5409409584290255,\n",
       " 2.540954146305782,\n",
       " 2.5409673353984044,\n",
       " 2.5409805257068925,\n",
       " 2.5409937172312542,\n",
       " 2.5410069099714896,\n",
       " 2.541020103927599,\n",
       " 2.541033299099588,\n",
       " 2.5410464954874565,\n",
       " 2.541059693091208,\n",
       " 2.541072891910845]"
      ]
     },
     "execution_count": 724,
     "metadata": {},
     "output_type": "execute_result"
    }
   ],
   "source": [
    "losses, new_coefs = learn_sgd(COEFS, X, y, num_epochs=20, learning_rate=0.0001)\n",
    "print(new_coefs)\n",
    "losses"
   ]
  },
  {
   "cell_type": "code",
   "execution_count": 725,
   "id": "3571ec11",
   "metadata": {
    "colab": {
     "base_uri": "https://localhost:8080/"
    },
    "id": "-Ui5_YGvUEpU",
    "outputId": "23969144-b6f9-431b-d584-16e8a1bb9523"
   },
   "outputs": [
    {
     "data": {
      "text/plain": [
       "array([1, 1, 2, 1, 1, 1, 2, 1, 1, 1, 1, 1, 1, 1, 1, 1, 1, 1, 1, 1, 2, 1,\n",
       "       1, 1, 1, 1, 1, 2, 1, 1, 1, 1, 1, 2, 1, 2, 1, 1, 1, 1, 1, 1, 1, 1,\n",
       "       1, 1, 1, 1, 1, 1, 2, 2, 2, 2, 2, 2, 1, 2, 2, 2, 2, 2, 2, 2, 2, 2,\n",
       "       2, 2, 2, 1, 2, 2, 2, 2, 2, 2, 2, 2, 2, 2, 2, 2, 2, 2, 2, 2, 2, 2,\n",
       "       2, 2, 2, 2, 2, 2, 2, 2, 2, 2, 2, 2])"
      ]
     },
     "execution_count": 725,
     "metadata": {},
     "output_type": "execute_result"
    }
   ],
   "source": [
    "predict_class(new_coefs, X)"
   ]
  },
  {
   "cell_type": "code",
   "execution_count": 726,
   "id": "af9841db",
   "metadata": {
    "colab": {
     "base_uri": "https://localhost:8080/"
    },
    "id": "P82-FVz9UPrG",
    "outputId": "91bc712b-c970-4628-fc56-ab11fec420d5"
   },
   "outputs": [
    {
     "data": {
      "text/plain": [
       "array([0.43189638, 0.47349407, 0.55727515, 0.06215387, 0.36962119,\n",
       "       0.19304442, 0.66180534, 0.00994298, 0.23277044, 0.13179685,\n",
       "       0.00733582, 0.32492447, 0.01709642, 0.33984484, 0.08467735,\n",
       "       0.31711786, 0.41057454, 0.03757578, 0.18726195, 0.0336591 ,\n",
       "       0.81121109, 0.1146403 , 0.35978679, 0.16883604, 0.17490379,\n",
       "       0.28875285, 0.33288377, 0.73345348, 0.37587331, 0.01624734,\n",
       "       0.02627208, 0.01582423, 0.06345969, 0.58473688, 0.41165047,\n",
       "       0.63937558, 0.49814291, 0.09554086, 0.16262183, 0.0801192 ,\n",
       "       0.09825324, 0.34336029, 0.06253704, 0.00866517, 0.12700281,\n",
       "       0.12822729, 0.16020535, 0.17554606, 0.01171562, 0.1284969 ,\n",
       "       0.99702357, 0.82297437, 0.97536957, 0.8815381 , 0.9814365 ,\n",
       "       0.98917127, 0.44130791, 0.94437009, 0.84470791, 0.99821207,\n",
       "       0.93091512, 0.85386986, 0.96089195, 0.82364816, 0.97482682,\n",
       "       0.98262123, 0.8827013 , 0.99781305, 0.99407257, 0.29765321,\n",
       "       0.98909782, 0.86204254, 0.98135844, 0.70824824, 0.97927771,\n",
       "       0.94689468, 0.71192341, 0.7860372 , 0.95513391, 0.82812436,\n",
       "       0.94519528, 0.99305212, 0.96937441, 0.518881  , 0.50376799,\n",
       "       0.99099363, 0.99375718, 0.89633107, 0.76538488, 0.96139272,\n",
       "       0.9905412 , 0.97454996, 0.82297437, 0.99143981, 0.99568867,\n",
       "       0.97427103, 0.75607582, 0.92045751, 0.98826824, 0.82457107])"
      ]
     },
     "execution_count": 726,
     "metadata": {},
     "output_type": "execute_result"
    }
   ],
   "source": [
    "predict_proba(new_coefs, X)"
   ]
  },
  {
   "cell_type": "code",
   "execution_count": 727,
   "id": "8bfa1a2c",
   "metadata": {
    "id": "uKE_aFrlT1aZ"
   },
   "outputs": [
    {
     "name": "stdout",
     "output_type": "stream",
     "text": [
      "Метод Nesterov Accelerated Gradient\n",
      "\n",
      "[-0.01465406  0.45133159  0.99490364  1.67741411  0.65279625]\n"
     ]
    },
    {
     "data": {
      "text/plain": [
       "[2.541086091946371,\n",
       " 2.541111834953178,\n",
       " 2.54114949936362,\n",
       " 2.5411984970459462,\n",
       " 2.5412582713758236,\n",
       " 2.541328295430582,\n",
       " 2.5414080702974586,\n",
       " 2.54149712348772,\n",
       " 2.5415950074493066,\n",
       " 2.541701298171096,\n",
       " 2.5418155938725158,\n",
       " 2.541937513772638,\n",
       " 2.5420666969334174,\n",
       " 2.542202801172058,\n",
       " 2.5423455020379166,\n",
       " 2.5424944918497148,\n",
       " 2.5426494787890714,\n",
       " 2.542810186046737,\n",
       " 2.5429763510181136,\n",
       " 2.543147724544961]"
      ]
     },
     "execution_count": 727,
     "metadata": {},
     "output_type": "execute_result"
    }
   ],
   "source": [
    "losses, new_coefs = learn_NR(COEFS, X, y, num_epochs=20, nabla=0.0001, gamma=0.95)\n",
    "print(new_coefs)\n",
    "losses"
   ]
  },
  {
   "cell_type": "code",
   "execution_count": 728,
   "id": "d6d2e388",
   "metadata": {
    "colab": {
     "base_uri": "https://localhost:8080/"
    },
    "id": "-Ui5_YGvUEpU",
    "outputId": "23969144-b6f9-431b-d584-16e8a1bb9523"
   },
   "outputs": [
    {
     "data": {
      "text/plain": [
       "array([1, 1, 2, 1, 1, 1, 2, 1, 1, 1, 1, 1, 1, 1, 1, 1, 1, 1, 1, 1, 2, 1,\n",
       "       1, 1, 1, 1, 1, 2, 1, 1, 1, 1, 1, 2, 1, 2, 2, 1, 1, 1, 1, 1, 1, 1,\n",
       "       1, 1, 1, 1, 1, 1, 2, 2, 2, 2, 2, 2, 1, 2, 2, 2, 2, 2, 2, 2, 2, 2,\n",
       "       2, 2, 2, 1, 2, 2, 2, 2, 2, 2, 2, 2, 2, 2, 2, 2, 2, 2, 2, 2, 2, 2,\n",
       "       2, 2, 2, 2, 2, 2, 2, 2, 2, 2, 2, 2])"
      ]
     },
     "execution_count": 728,
     "metadata": {},
     "output_type": "execute_result"
    }
   ],
   "source": [
    "predict_class(new_coefs, X)"
   ]
  },
  {
   "cell_type": "code",
   "execution_count": 729,
   "id": "bd1e1213",
   "metadata": {},
   "outputs": [
    {
     "data": {
      "text/plain": [
       "array([0.4350218 , 0.4766662 , 0.56060934, 0.0629941 , 0.37290205,\n",
       "       0.19514665, 0.66468946, 0.01006588, 0.23514757, 0.13331851,\n",
       "       0.00743751, 0.32777103, 0.01733146, 0.34291008, 0.08561275,\n",
       "       0.31986422, 0.41380276, 0.03803069, 0.18966989, 0.03408796,\n",
       "       0.81331994, 0.11594724, 0.36332737, 0.17073136, 0.17677138,\n",
       "       0.29142079, 0.33601381, 0.73626727, 0.37907542, 0.01644117,\n",
       "       0.026614  , 0.01602658, 0.06422139, 0.58842984, 0.41488113,\n",
       "       0.64222042, 0.50146133, 0.0968298 , 0.16430829, 0.08113618,\n",
       "       0.09947142, 0.34634374, 0.06331378, 0.00877506, 0.1284921 ,\n",
       "       0.12959883, 0.16192966, 0.177419  , 0.0118551 , 0.12995274,\n",
       "       0.99707285, 0.82528789, 0.97576403, 0.883172  , 0.98173775,\n",
       "       0.98935636, 0.44508949, 0.94523678, 0.84695096, 0.99824034,\n",
       "       0.93185427, 0.85588137, 0.96149054, 0.82605877, 0.97523781,\n",
       "       0.98288698, 0.88427752, 0.99784635, 0.99418639, 0.30108685,\n",
       "       0.98927094, 0.86389359, 0.98168333, 0.71143399, 0.97958774,\n",
       "       0.94766059, 0.71499799, 0.78847574, 0.95584739, 0.83027717,\n",
       "       0.94606497, 0.99315154, 0.96987572, 0.52254517, 0.50768465,\n",
       "       0.99114664, 0.99385381, 0.89771758, 0.76796695, 0.9619683 ,\n",
       "       0.99069551, 0.97493727, 0.82528789, 0.99157815, 0.99575837,\n",
       "       0.97467303, 0.75909541, 0.92157963, 0.98844317, 0.82670317])"
      ]
     },
     "execution_count": 729,
     "metadata": {},
     "output_type": "execute_result"
    }
   ],
   "source": [
    "predict_proba(new_coefs, X)"
   ]
  },
  {
   "cell_type": "code",
   "execution_count": 730,
   "id": "2d4d213a",
   "metadata": {
    "id": "uKE_aFrlT1aZ"
   },
   "outputs": [
    {
     "name": "stdout",
     "output_type": "stream",
     "text": [
      "Метод RMSProp\n",
      "\n",
      "[-0.00832951  0.10772869  1.34976113  2.03703616  1.02241907]\n"
     ]
    },
    {
     "data": {
      "text/plain": [
       "[2.6175510453996536,\n",
       " 2.6325936538719055,\n",
       " 2.6637947386202585,\n",
       " 2.690688318289225,\n",
       " 2.715238091789628,\n",
       " 2.7380457575031976,\n",
       " 2.7595220033591614,\n",
       " 2.779942679279366,\n",
       " 2.7995046190211226,\n",
       " 2.81835377182475,\n",
       " 2.8366017925326013,\n",
       " 2.8543362721622474,\n",
       " 2.8716273630751323,\n",
       " 2.888532234970935,\n",
       " 2.9050981699130345,\n",
       " 2.9213647713647264,\n",
       " 2.937365578238101,\n",
       " 2.953129268466424,\n",
       " 2.9686805726681187,\n",
       " 2.9840409787819326]"
      ]
     },
     "execution_count": 730,
     "metadata": {},
     "output_type": "execute_result"
    }
   ],
   "source": [
    "losses, new_coefs = learn_RMSProp(COEFS, X, y, num_epochs=20, nabla=0.01, gamma=0.95)\n",
    "print(new_coefs)\n",
    "losses"
   ]
  },
  {
   "cell_type": "code",
   "execution_count": 731,
   "id": "7ad4974f",
   "metadata": {
    "colab": {
     "base_uri": "https://localhost:8080/"
    },
    "id": "-Ui5_YGvUEpU",
    "outputId": "23969144-b6f9-431b-d584-16e8a1bb9523"
   },
   "outputs": [
    {
     "data": {
      "text/plain": [
       "array([1, 1, 2, 1, 1, 1, 2, 1, 1, 1, 1, 1, 1, 1, 1, 1, 1, 1, 1, 1, 2, 1,\n",
       "       2, 1, 1, 1, 1, 2, 1, 1, 1, 1, 1, 2, 1, 2, 1, 1, 1, 1, 1, 1, 1, 1,\n",
       "       1, 1, 1, 1, 1, 1, 2, 2, 2, 2, 2, 2, 2, 2, 2, 2, 2, 2, 2, 2, 2, 2,\n",
       "       2, 2, 2, 2, 2, 2, 2, 2, 2, 2, 2, 2, 2, 2, 2, 2, 2, 2, 2, 2, 2, 2,\n",
       "       2, 2, 2, 2, 2, 2, 2, 2, 2, 2, 2, 2])"
      ]
     },
     "execution_count": 731,
     "metadata": {},
     "output_type": "execute_result"
    }
   ],
   "source": [
    "predict_class(new_coefs, X)"
   ]
  },
  {
   "cell_type": "code",
   "execution_count": 732,
   "id": "872ddc85",
   "metadata": {},
   "outputs": [
    {
     "data": {
      "text/plain": [
       "array([0.36611216, 0.40419706, 0.55734779, 0.07907173, 0.41214452,\n",
       "       0.1864447 , 0.61216134, 0.00661969, 0.21622688, 0.11884417,\n",
       "       0.00805122, 0.28095724, 0.01908058, 0.34633686, 0.05125505,\n",
       "       0.25528313, 0.3910311 , 0.026332  , 0.32940793, 0.02876276,\n",
       "       0.82595065, 0.09113015, 0.51068671, 0.16360061, 0.14452373,\n",
       "       0.24938291, 0.37466787, 0.79062035, 0.38211746, 0.00968486,\n",
       "       0.02377448, 0.01260002, 0.04857006, 0.71549657, 0.39163276,\n",
       "       0.54093339, 0.47609279, 0.14089637, 0.11262486, 0.08394226,\n",
       "       0.1013671 , 0.31713743, 0.05503489, 0.00640108, 0.11946526,\n",
       "       0.08446806, 0.12634269, 0.14483631, 0.0067461 , 0.10616327,\n",
       "       0.99902328, 0.91456532, 0.99125408, 0.94098085, 0.99366698,\n",
       "       0.99719707, 0.59076506, 0.98028852, 0.95085043, 0.9992396 ,\n",
       "       0.95286813, 0.93653818, 0.983323  , 0.93242475, 0.99194308,\n",
       "       0.99169339, 0.93306524, 0.99886459, 0.9992538 , 0.52828077,\n",
       "       0.9956504 , 0.92818302, 0.99589028, 0.82545747, 0.98906096,\n",
       "       0.97104344, 0.80584805, 0.8394188 , 0.98494979, 0.89612628,\n",
       "       0.98247061, 0.99513198, 0.99065179, 0.61514728, 0.678318  ,\n",
       "       0.99756507, 0.99705187, 0.93514562, 0.81620681, 0.98099501,\n",
       "       0.99673415, 0.98804852, 0.91456532, 0.99686882, 0.9983939 ,\n",
       "       0.98953481, 0.8942577 , 0.95713   , 0.99340143, 0.87922047])"
      ]
     },
     "execution_count": 732,
     "metadata": {},
     "output_type": "execute_result"
    }
   ],
   "source": [
    "predict_proba(new_coefs, X)"
   ]
  }
 ],
 "metadata": {
  "kernelspec": {
   "display_name": "Python 3",
   "language": "python",
   "name": "python3"
  },
  "language_info": {
   "codemirror_mode": {
    "name": "ipython",
    "version": 3
   },
   "file_extension": ".py",
   "mimetype": "text/x-python",
   "name": "python",
   "nbconvert_exporter": "python",
   "pygments_lexer": "ipython3",
   "version": "3.8.3"
  }
 },
 "nbformat": 4,
 "nbformat_minor": 5
}
