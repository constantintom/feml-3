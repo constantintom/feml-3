{
 "cells": [
  {
   "cell_type": "markdown",
   "id": "be3da4cf-1609-4049-9ad3-deed3a16fcfe",
   "metadata": {},
   "source": [
    "# Домашняя работа \"Оценка точности модели, переобучение, регуляризация\"\n",
    " "
   ]
  },
  {
   "cell_type": "markdown",
   "id": "5eecc687-0ba9-4b08-9419-7cf4e7c5a7a1",
   "metadata": {},
   "source": [
    "### Посчитать tpr и fpr в ноутбуке к лекции.\n",
    "### Убедиться, что график ROC AUC получается таким же, как и штатными средствами.\n",
    "### Построить график Precision - Recall на этих же данных."
   ]
  },
  {
   "cell_type": "code",
   "execution_count": 3,
   "id": "e2e274f6-9bcd-4fc4-981d-eacf97d164ae",
   "metadata": {},
   "outputs": [],
   "source": [
    "import pandas as pd\n",
    "import numpy as np"
   ]
  },
  {
   "cell_type": "code",
   "execution_count": 4,
   "id": "d1cd8f22-d86c-4776-ba5d-e50858577b98",
   "metadata": {},
   "outputs": [
    {
     "data": {
      "text/html": [
       "<div>\n",
       "<style scoped>\n",
       "    .dataframe tbody tr th:only-of-type {\n",
       "        vertical-align: middle;\n",
       "    }\n",
       "\n",
       "    .dataframe tbody tr th {\n",
       "        vertical-align: top;\n",
       "    }\n",
       "\n",
       "    .dataframe thead th {\n",
       "        text-align: right;\n",
       "    }\n",
       "</style>\n",
       "<table border=\"1\" class=\"dataframe\">\n",
       "  <thead>\n",
       "    <tr style=\"text-align: right;\">\n",
       "      <th></th>\n",
       "      <th>rate_marriage</th>\n",
       "      <th>age</th>\n",
       "      <th>yrs_married</th>\n",
       "      <th>children</th>\n",
       "      <th>religious</th>\n",
       "      <th>educ</th>\n",
       "      <th>occupation</th>\n",
       "      <th>occupation_husb</th>\n",
       "      <th>affair</th>\n",
       "    </tr>\n",
       "  </thead>\n",
       "  <tbody>\n",
       "    <tr>\n",
       "      <th>0</th>\n",
       "      <td>3.0</td>\n",
       "      <td>32.0</td>\n",
       "      <td>9.0</td>\n",
       "      <td>3.0</td>\n",
       "      <td>3.0</td>\n",
       "      <td>17.0</td>\n",
       "      <td>2.0</td>\n",
       "      <td>5.0</td>\n",
       "      <td>1</td>\n",
       "    </tr>\n",
       "    <tr>\n",
       "      <th>1</th>\n",
       "      <td>3.0</td>\n",
       "      <td>27.0</td>\n",
       "      <td>13.0</td>\n",
       "      <td>3.0</td>\n",
       "      <td>1.0</td>\n",
       "      <td>14.0</td>\n",
       "      <td>3.0</td>\n",
       "      <td>4.0</td>\n",
       "      <td>1</td>\n",
       "    </tr>\n",
       "    <tr>\n",
       "      <th>2</th>\n",
       "      <td>4.0</td>\n",
       "      <td>22.0</td>\n",
       "      <td>2.5</td>\n",
       "      <td>0.0</td>\n",
       "      <td>1.0</td>\n",
       "      <td>16.0</td>\n",
       "      <td>3.0</td>\n",
       "      <td>5.0</td>\n",
       "      <td>1</td>\n",
       "    </tr>\n",
       "    <tr>\n",
       "      <th>3</th>\n",
       "      <td>4.0</td>\n",
       "      <td>37.0</td>\n",
       "      <td>16.5</td>\n",
       "      <td>4.0</td>\n",
       "      <td>3.0</td>\n",
       "      <td>16.0</td>\n",
       "      <td>5.0</td>\n",
       "      <td>5.0</td>\n",
       "      <td>1</td>\n",
       "    </tr>\n",
       "    <tr>\n",
       "      <th>4</th>\n",
       "      <td>5.0</td>\n",
       "      <td>27.0</td>\n",
       "      <td>9.0</td>\n",
       "      <td>1.0</td>\n",
       "      <td>1.0</td>\n",
       "      <td>14.0</td>\n",
       "      <td>3.0</td>\n",
       "      <td>4.0</td>\n",
       "      <td>1</td>\n",
       "    </tr>\n",
       "  </tbody>\n",
       "</table>\n",
       "</div>"
      ],
      "text/plain": [
       "   rate_marriage   age  yrs_married  children  religious  educ  occupation  \\\n",
       "0            3.0  32.0          9.0       3.0        3.0  17.0         2.0   \n",
       "1            3.0  27.0         13.0       3.0        1.0  14.0         3.0   \n",
       "2            4.0  22.0          2.5       0.0        1.0  16.0         3.0   \n",
       "3            4.0  37.0         16.5       4.0        3.0  16.0         5.0   \n",
       "4            5.0  27.0          9.0       1.0        1.0  14.0         3.0   \n",
       "\n",
       "   occupation_husb  affair  \n",
       "0              5.0       1  \n",
       "1              4.0       1  \n",
       "2              5.0       1  \n",
       "3              5.0       1  \n",
       "4              4.0       1  "
      ]
     },
     "execution_count": 4,
     "metadata": {},
     "output_type": "execute_result"
    }
   ],
   "source": [
    "data = pd.read_csv('affair_data.csv')\n",
    "data.head()"
   ]
  },
  {
   "cell_type": "code",
   "execution_count": 5,
   "id": "ad5d3fea-a9f1-4bac-8116-2f8930f4d637",
   "metadata": {},
   "outputs": [
    {
     "name": "stdout",
     "output_type": "stream",
     "text": [
      "<class 'pandas.core.frame.DataFrame'>\n",
      "RangeIndex: 6366 entries, 0 to 6365\n",
      "Data columns (total 9 columns):\n",
      " #   Column           Non-Null Count  Dtype  \n",
      "---  ------           --------------  -----  \n",
      " 0   rate_marriage    6366 non-null   float64\n",
      " 1   age              6366 non-null   float64\n",
      " 2   yrs_married      6366 non-null   float64\n",
      " 3   children         6366 non-null   float64\n",
      " 4   religious        6366 non-null   float64\n",
      " 5   educ             6366 non-null   float64\n",
      " 6   occupation       6366 non-null   float64\n",
      " 7   occupation_husb  6366 non-null   float64\n",
      " 8   affair           6366 non-null   int64  \n",
      "dtypes: float64(8), int64(1)\n",
      "memory usage: 447.7 KB\n"
     ]
    }
   ],
   "source": [
    "data.info()"
   ]
  },
  {
   "cell_type": "code",
   "execution_count": 6,
   "id": "c5ff0f1d-e92e-4c97-b2cd-049af190811e",
   "metadata": {},
   "outputs": [],
   "source": [
    "from sklearn.linear_model import LogisticRegression\n",
    "from sklearn.model_selection import train_test_split\n",
    "from matplotlib import pyplot as plt"
   ]
  },
  {
   "cell_type": "markdown",
   "id": "ff9390b4-2a32-41cf-aa14-5b5f141306ed",
   "metadata": {},
   "source": [
    "Формируем набор признаков и целевую переменную"
   ]
  },
  {
   "cell_type": "code",
   "execution_count": 7,
   "id": "d34fd387-36d8-4704-90bf-5c2302787931",
   "metadata": {},
   "outputs": [
    {
     "data": {
      "text/html": [
       "<div>\n",
       "<style scoped>\n",
       "    .dataframe tbody tr th:only-of-type {\n",
       "        vertical-align: middle;\n",
       "    }\n",
       "\n",
       "    .dataframe tbody tr th {\n",
       "        vertical-align: top;\n",
       "    }\n",
       "\n",
       "    .dataframe thead th {\n",
       "        text-align: right;\n",
       "    }\n",
       "</style>\n",
       "<table border=\"1\" class=\"dataframe\">\n",
       "  <thead>\n",
       "    <tr style=\"text-align: right;\">\n",
       "      <th></th>\n",
       "      <th>rate_marriage</th>\n",
       "      <th>age</th>\n",
       "      <th>yrs_married</th>\n",
       "      <th>children</th>\n",
       "      <th>religious</th>\n",
       "      <th>educ</th>\n",
       "      <th>occupation</th>\n",
       "      <th>occupation_husb</th>\n",
       "    </tr>\n",
       "  </thead>\n",
       "  <tbody>\n",
       "    <tr>\n",
       "      <th>0</th>\n",
       "      <td>3.0</td>\n",
       "      <td>32.0</td>\n",
       "      <td>9.0</td>\n",
       "      <td>3.0</td>\n",
       "      <td>3.0</td>\n",
       "      <td>17.0</td>\n",
       "      <td>2.0</td>\n",
       "      <td>5.0</td>\n",
       "    </tr>\n",
       "    <tr>\n",
       "      <th>1</th>\n",
       "      <td>3.0</td>\n",
       "      <td>27.0</td>\n",
       "      <td>13.0</td>\n",
       "      <td>3.0</td>\n",
       "      <td>1.0</td>\n",
       "      <td>14.0</td>\n",
       "      <td>3.0</td>\n",
       "      <td>4.0</td>\n",
       "    </tr>\n",
       "  </tbody>\n",
       "</table>\n",
       "</div>"
      ],
      "text/plain": [
       "   rate_marriage   age  yrs_married  children  religious  educ  occupation  \\\n",
       "0            3.0  32.0          9.0       3.0        3.0  17.0         2.0   \n",
       "1            3.0  27.0         13.0       3.0        1.0  14.0         3.0   \n",
       "\n",
       "   occupation_husb  \n",
       "0              5.0  \n",
       "1              4.0  "
      ]
     },
     "execution_count": 7,
     "metadata": {},
     "output_type": "execute_result"
    }
   ],
   "source": [
    "X = data[data.columns[:-1]]\n",
    "X.head(2)"
   ]
  },
  {
   "cell_type": "code",
   "execution_count": 8,
   "id": "d8baf4e4-8b3f-4607-849f-0a412d33d5de",
   "metadata": {},
   "outputs": [
    {
     "data": {
      "text/plain": [
       "0    1\n",
       "1    1\n",
       "2    1\n",
       "Name: affair, dtype: int64"
      ]
     },
     "execution_count": 8,
     "metadata": {},
     "output_type": "execute_result"
    }
   ],
   "source": [
    "Y = data['affair']\n",
    "Y.head(3)"
   ]
  },
  {
   "cell_type": "code",
   "execution_count": 9,
   "id": "c33634a4-53ae-46a5-95f6-a047509920e6",
   "metadata": {},
   "outputs": [],
   "source": [
    "model = LogisticRegression( penalty = 'l2', C = 0.01, solver='liblinear')"
   ]
  },
  {
   "cell_type": "markdown",
   "id": "ab97f3d2-dd35-4d5c-bf34-22f999668784",
   "metadata": {},
   "source": [
    "Разбиваем данные на обучающую и тестовую выборки в соотношении 70 / 30"
   ]
  },
  {
   "cell_type": "code",
   "execution_count": 10,
   "id": "25699eb3-77e7-49dc-bb7c-a13a249cb7aa",
   "metadata": {},
   "outputs": [],
   "source": [
    "X_train, X_test, Y_train, Y_test = train_test_split(X, Y, test_size = 0.3, random_state = 0 )"
   ]
  },
  {
   "cell_type": "code",
   "execution_count": 11,
   "id": "7b2b3078-f713-4f6c-802e-166ba234cbc8",
   "metadata": {},
   "outputs": [],
   "source": [
    "from sklearn.preprocessing import StandardScaler\n",
    "sc = StandardScaler()\n",
    "X_test = sc.fit_transform(X_test)\n",
    "X_train = sc.transform(X_train)"
   ]
  },
  {
   "cell_type": "markdown",
   "id": "3e59493f-215e-4a1d-b6bf-e608521e1a97",
   "metadata": {},
   "source": [
    "Обучаем модель"
   ]
  },
  {
   "cell_type": "code",
   "execution_count": 12,
   "id": "64e8c860-bb35-4c95-be96-59594c0ae9bd",
   "metadata": {},
   "outputs": [
    {
     "data": {
      "text/plain": [
       "LogisticRegression(C=0.01, solver='liblinear')"
      ]
     },
     "execution_count": 12,
     "metadata": {},
     "output_type": "execute_result"
    }
   ],
   "source": [
    "model.fit(X_train, Y_train)"
   ]
  },
  {
   "cell_type": "markdown",
   "id": "61764d7c-e67a-4d9d-a6c0-809b6c5098c7",
   "metadata": {},
   "source": [
    "Получаем прогнозные значения модели (переменная predictions)"
   ]
  },
  {
   "cell_type": "code",
   "execution_count": 13,
   "id": "f9b79e35-f3c5-4845-9a8b-72db1d69f170",
   "metadata": {},
   "outputs": [],
   "source": [
    "predictions = model.predict_proba(X_test)"
   ]
  },
  {
   "cell_type": "code",
   "execution_count": 14,
   "id": "bea82019-4c75-4b60-b4fe-18c7586d41ed",
   "metadata": {},
   "outputs": [
    {
     "data": {
      "text/plain": [
       "0.7261780104712042"
      ]
     },
     "execution_count": 14,
     "metadata": {},
     "output_type": "execute_result"
    }
   ],
   "source": [
    "model.score(X_test, Y_test)"
   ]
  },
  {
   "cell_type": "markdown",
   "id": "41ef0eaa-e15e-489d-9f69-9cf0ce0721a2",
   "metadata": {},
   "source": [
    "### Посчитать tpr и fpr в ноутбуке к лекции."
   ]
  },
  {
   "cell_type": "markdown",
   "id": "df8208c5-e6cf-4751-92ad-5f7c5b87b3c1",
   "metadata": {},
   "source": [
    "Считаем accuracy, TPR, FPR, Precision, Recall"
   ]
  },
  {
   "cell_type": "code",
   "execution_count": 15,
   "id": "0a7ce24e-feca-490f-9b30-01111305ae2b",
   "metadata": {},
   "outputs": [],
   "source": [
    "tp = 0 # True positive\n",
    "fp = 0 # False positive\n",
    "fn = 0 # False negative\n",
    "tn = 0 # True negative\n",
    "prec = []\n",
    "tpr2 = []\n",
    "fpr2 = []\n",
    "thresholds = np.arange(0, 1, 0.1)\n",
    "# for threshold in thresholds:\n",
    "def thres(predictions, Y_test, threshold=0.5, tp=0, fp=0, fn=0, tn=0):    \n",
    "    for predicted_prob, actual in zip(predictions[:, 1], Y_test):\n",
    "        if predicted_prob >= threshold:\n",
    "            predicted = 1\n",
    "        else:\n",
    "            predicted = 0\n",
    "    \n",
    "        if predicted == 1:\n",
    "            if actual == 1:\n",
    "                tp += 1\n",
    "            else:\n",
    "                fp += 1  \n",
    "\n",
    "        else:\n",
    "            if actual == 1:\n",
    "                fn += 1\n",
    "            else:\n",
    "                tn += 1    \n",
    "    return tp / (tp + fp), (fp / (fp + tn)), (tp / (tp + fn)), ((tp + tn) / (tp + fp + fn + tn))\n",
    "\n",
    "\n",
    "for threshold in thresholds:\n",
    "    z = thres(predictions, Y_test, threshold)\n",
    "    prec.append(z[0])\n",
    "    fpr2.append(z[1])\n",
    "    tpr2.append(z[2])"
   ]
  },
  {
   "cell_type": "code",
   "execution_count": 16,
   "id": "cb9ceea9-a96c-43cd-9001-23a81052a986",
   "metadata": {},
   "outputs": [
    {
     "name": "stdout",
     "output_type": "stream",
     "text": [
      "accuracy = 0.7261780104712042\n"
     ]
    }
   ],
   "source": [
    "# верность модели\n",
    "print(f'accuracy = {thres(predictions, Y_test, threshold=0.5)[3]}')"
   ]
  },
  {
   "cell_type": "code",
   "execution_count": 17,
   "id": "ee71cf2f-2156-4452-a1fd-1e3879c7e8b0",
   "metadata": {},
   "outputs": [
    {
     "name": "stdout",
     "output_type": "stream",
     "text": [
      "recall = 0.35914332784184516\n",
      "precision = 0.6193181818181818\n",
      "TPR = 0.35914332784184516\n",
      "FPR = 0.10283960092095165\n"
     ]
    }
   ],
   "source": [
    "print (f'recall = {thres(predictions, Y_test, threshold=0.5)[2]}')\n",
    "print (f'precision = {thres(predictions, Y_test, threshold=0.5)[0]}')\n",
    "print (f'TPR = {thres(predictions, Y_test, threshold=0.5)[2]}')\n",
    "print (f'FPR = {thres(predictions, Y_test, threshold=0.5)[1]}') "
   ]
  },
  {
   "cell_type": "code",
   "execution_count": 18,
   "id": "cc7687fb-a586-4962-ac8e-0356ee888511",
   "metadata": {},
   "outputs": [],
   "source": [
    "from sklearn.metrics import roc_curve"
   ]
  },
  {
   "cell_type": "code",
   "execution_count": 19,
   "id": "06c186a5-a9cb-4d88-8956-81cf7e13787a",
   "metadata": {},
   "outputs": [],
   "source": [
    "# получаем значения false и true positive rate для различных значений порога\n",
    "fpr, tpr, thres = roc_curve( Y_test, predictions[:, 1] )"
   ]
  },
  {
   "cell_type": "markdown",
   "id": "ad396186-3b8b-4f49-98df-28200b077c20",
   "metadata": {},
   "source": [
    "### Убедиться, что график ROC AUC получается таким же, как и штатными средствами."
   ]
  },
  {
   "cell_type": "code",
   "execution_count": 20,
   "id": "83b192be-a808-4c81-a7ec-fe5940924642",
   "metadata": {},
   "outputs": [
    {
     "data": {
      "text/plain": [
       "<matplotlib.legend.Legend at 0x1fc1b38a250>"
      ]
     },
     "execution_count": 20,
     "metadata": {},
     "output_type": "execute_result"
    },
    {
     "data": {
      "image/png": "[encoded data removed]",
      "text/plain": [
       "<Figure size 936x576 with 1 Axes>"
      ]
     },
     "metadata": {
      "needs_background": "light"
     },
     "output_type": "display_data"
    }
   ],
   "source": [
    "# Строим график ROC-кривой для \"ручного\" и машинного подсчёта fpr & tpr\n",
    "fig, axes = plt.subplots(figsize = (13, 8))\n",
    "axes.set_title(label='ROC-кривая')\n",
    "axes.plot(fpr, tpr, 'r', label='roc_curve')\n",
    "axes.plot( fpr2, tpr2, 'b', label='hand')\n",
    "axes.set_xlabel('False Positive Rate')\n",
    "axes.set_ylabel('True Positive Rate')\n",
    "axes.legend()"
   ]
  },
  {
   "cell_type": "code",
   "execution_count": 21,
   "id": "82df7985-3ac8-47c0-bb54-d843abbf735d",
   "metadata": {},
   "outputs": [
    {
     "data": {
      "text/plain": [
       "(0.7430489265046699, 0.7342686564144839)"
      ]
     },
     "execution_count": 21,
     "metadata": {},
     "output_type": "execute_result"
    }
   ],
   "source": [
    "# Площадь под кривой\n",
    "from sklearn.metrics import auc\n",
    "auc(fpr, tpr), auc(fpr2, tpr2)\n"
   ]
  },
  {
   "cell_type": "markdown",
   "id": "a4deb4b2-0f6b-4cb2-bbc4-ee28d9aa0714",
   "metadata": {},
   "source": [
    "### Построить график Precision - Recall на этих же данных"
   ]
  },
  {
   "cell_type": "code",
   "execution_count": 22,
   "id": "1e5a5f66-35b1-41cc-b004-97d96dbdee0b",
   "metadata": {},
   "outputs": [],
   "source": [
    "from sklearn.metrics import precision_recall_curve\n",
    "pr, re, thres = precision_recall_curve( Y_test, predictions[:, 1] )"
   ]
  },
  {
   "cell_type": "code",
   "execution_count": 23,
   "id": "fc82e8e8-3d9b-4740-81f6-1cca51795432",
   "metadata": {},
   "outputs": [
    {
     "data": {
      "text/plain": [
       "<matplotlib.legend.Legend at 0x1fc1b3d1520>"
      ]
     },
     "execution_count": 23,
     "metadata": {},
     "output_type": "execute_result"
    },
    {
     "data": {
      "image/png": "[encoded data removed]",
      "text/plain": [
       "<Figure size 936x576 with 1 Axes>"
      ]
     },
     "metadata": {
      "needs_background": "light"
     },
     "output_type": "display_data"
    }
   ],
   "source": [
    "fig, axes = plt.subplots(figsize = (13, 8))\n",
    "axes.set_title(label='График Precision - Recall')\n",
    "axes.plot(re, pr, 'r', label='precision_recall_curve')\n",
    "axes.plot( tpr2, prec, 'b', label='hand')\n",
    "axes.set_xlabel('Recall')\n",
    "axes.set_ylabel('Precision')\n",
    "axes.legend()"
   ]
  },
  {
   "cell_type": "code",
   "execution_count": 24,
   "id": "df69dd12-a4b6-4eb3-a9a2-b9cb8fa62074",
   "metadata": {},
   "outputs": [],
   "source": [
    "from sklearn.metrics import average_precision_score"
   ]
  },
  {
   "cell_type": "code",
   "execution_count": 25,
   "id": "85210273-73b0-43a1-baae-cec5de070454",
   "metadata": {},
   "outputs": [
    {
     "data": {
      "text/plain": [
       "0.5720367255000708"
      ]
     },
     "execution_count": 25,
     "metadata": {},
     "output_type": "execute_result"
    }
   ],
   "source": [
    "# площадь под кривой\n",
    "average_precision_score( Y_test, predictions[:, 1] )"
   ]
  },
  {
   "cell_type": "code",
   "execution_count": 26,
   "id": "1b55cc91-f307-4270-b0b8-e13f7d3498e7",
   "metadata": {},
   "outputs": [
    {
     "data": {
      "text/plain": [
       "(0.5710259093913248, 0.5764196218167414)"
      ]
     },
     "execution_count": 26,
     "metadata": {},
     "output_type": "execute_result"
    }
   ],
   "source": [
    "auc(re, pr), auc(tpr2, prec)"
   ]
  },
  {
   "cell_type": "code",
   "execution_count": 27,
   "id": "8a4920ad-d6b1-4f62-b37a-5dba1956748d",
   "metadata": {},
   "outputs": [],
   "source": [
    "model2 = LogisticRegression( penalty = 'l2', C = 0.01, solver='liblinear' ).fit( X_train, Y_train )\n",
    "predictions2 = model2.predict_proba( X_test )"
   ]
  }
 ],
 "metadata": {
  "kernelspec": {
   "display_name": "Python 3",
   "language": "python",
   "name": "python3"
  },
  "language_info": {
   "codemirror_mode": {
    "name": "ipython",
    "version": 3
   },
   "file_extension": ".py",
   "mimetype": "text/x-python",
   "name": "python",
   "nbconvert_exporter": "python",
   "pygments_lexer": "ipython3",
   "version": "3.8.3"
  }
 },
 "nbformat": 4,
 "nbformat_minor": 5
}
