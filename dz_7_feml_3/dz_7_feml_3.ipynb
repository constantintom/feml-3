{
 "cells": [
  {
   "cell_type": "markdown",
   "metadata": {
    "id": "MCJRzUvLke8v"
   },
   "source": [
    "# Домашняя работа\n",
    "\n",
    "1. Теперь решаем задачу регрессии - предскажем цены на недвижимость. Использовать датасет https://www.kaggle.com/c/house-prices-advanced-regression-techniques/data (train.csv)\n",
    "2. Построить случайный лес, вывести важность признаков\n",
    "3. Обучить стекинг как минимум 3х моделей, использовать хотя бы 1 линейную модель и 1 нелинейную\n",
    "4. В качестве решения: Jupyter notebook с кодом, комментариями и графиками"
   ]
  },
  {
   "cell_type": "code",
   "execution_count": 1,
   "metadata": {
    "id": "AMoX-vmwke8v"
   },
   "outputs": [],
   "source": [
    "import matplotlib.pyplot as plt\n",
    "import pandas as pd\n",
    "import numpy as np\n",
    "from sklearn.metrics import auc, roc_curve, roc_auc_score\n",
    "from sklearn.ensemble import RandomForestClassifier\n",
    "from sklearn.model_selection import train_test_split"
   ]
  },
  {
   "cell_type": "code",
   "execution_count": 2,
   "metadata": {},
   "outputs": [
    {
     "name": "stdout",
     "output_type": "stream",
     "text": [
      "<class 'pandas.core.frame.DataFrame'>\n",
      "RangeIndex: 114321 entries, 0 to 114320\n",
      "Columns: 133 entries, ID to v131\n",
      "dtypes: float64(108), int64(6), object(19)\n",
      "memory usage: 116.0+ MB\n"
     ]
    }
   ],
   "source": [
    "data = pd.read_csv('train.csv')\n",
    "data.info()"
   ]
  },
  {
   "cell_type": "code",
   "execution_count": 3,
   "metadata": {},
   "outputs": [
    {
     "name": "stdout",
     "output_type": "stream",
     "text": [
      "v3          4\n",
      "v22     18211\n",
      "v24         5\n",
      "v30         8\n",
      "v31         4\n",
      "v47        10\n",
      "v52        13\n",
      "v56       123\n",
      "v66         3\n",
      "v71         9\n",
      "v74         3\n",
      "v75         4\n",
      "v79        18\n",
      "v91         8\n",
      "v107        8\n",
      "v110        3\n",
      "v112       23\n",
      "v113       37\n",
      "v125       91\n",
      "dtype: int64\n"
     ]
    }
   ],
   "source": [
    "#Находим категориальные признаки\n",
    "cat_feat = list(data.dtypes[data.dtypes == object].index)\n",
    "\n",
    "#закодируем пропущенные значений строкой, факт пропущенного значения тоже может нести в себе информацию\n",
    "data[cat_feat] = data[cat_feat].fillna('nan')\n",
    "\n",
    "#отфильтруем непрерывные признаки\n",
    "num_feat = [f for f in data if f not in (cat_feat + ['ID', 'target'])]\n",
    "\n",
    "# Смотрим сколько у нас значений по каждому категориальному признаку\n",
    "cat_nunique = data[cat_feat].nunique()\n",
    "print(cat_nunique)\n",
    "\n",
    "#Чтобы в разы не увеличивать число признаков при построении dummy,\n",
    "#будем использовать категориальные признаки с < 30 уникальных значений\n",
    "cat_feat = list(cat_nunique[cat_nunique < 30].index)"
   ]
  },
  {
   "cell_type": "code",
   "execution_count": 5,
   "metadata": {},
   "outputs": [
    {
     "name": "stdout",
     "output_type": "stream",
     "text": [
      "<class 'pandas.core.frame.DataFrame'>\n",
      "RangeIndex: 114321 entries, 0 to 114320\n",
      "Columns: 362 entries, v1 to v112_nan\n",
      "dtypes: float64(108), int64(4), int8(127), uint8(123)\n",
      "memory usage: 124.9 MB\n"
     ]
    }
   ],
   "source": [
    "# Создаем дамми-переменные для категорий\n",
    "dummy = pd.get_dummies(data[cat_feat], columns=cat_feat)\n",
    "\n",
    "# Заменяем пропуски на медиану\n",
    "train_median = data[num_feat].median()\n",
    "X = pd.concat([data[num_feat].fillna(train_median),\n",
    "                     data[num_feat + cat_feat].isnull().astype(np.int8).add_suffix('_NaN'), dummy], axis=1)\n",
    "# X2_train, X2_test, y2_train, y2_test = train_test_split(X2, Y2, test_size=0.3, random_state=0, stratify=Y2)\n",
    "\n",
    "# Заменяем пропуски на специальное значение -999, чтобы деревья могли их отличить\n",
    "# X = pd.concat([data[num_feat].fillna(-999), dummy], axis=1)\n",
    "X.info()"
   ]
  },
  {
   "cell_type": "code",
   "execution_count": 6,
   "metadata": {},
   "outputs": [
    {
     "data": {
      "text/plain": [
       "array([1, 1, 1, ..., 1, 1, 1], dtype=int64)"
      ]
     },
     "execution_count": 6,
     "metadata": {},
     "output_type": "execute_result"
    }
   ],
   "source": [
    "from sklearn.preprocessing import LabelEncoder\n",
    "Y = data.target\n",
    "le = LabelEncoder()\n",
    "Y = le.fit_transform(Y)\n",
    "Y"
   ]
  },
  {
   "cell_type": "code",
   "execution_count": 7,
   "metadata": {},
   "outputs": [],
   "source": [
    "X_train, X_test, y_train, y_test = train_test_split(X, Y, test_size=0.3, random_state=0, stratify=Y)"
   ]
  },
  {
   "cell_type": "markdown",
   "metadata": {},
   "source": [
    "##### Обучаем случайный лес"
   ]
  },
  {
   "cell_type": "code",
   "execution_count": 8,
   "metadata": {},
   "outputs": [
    {
     "data": {
      "text/plain": [
       "RandomForestClassifier(max_depth=5, max_features=0.5, min_samples_leaf=20,\n",
       "                       n_estimators=10, n_jobs=-1)"
      ]
     },
     "execution_count": 8,
     "metadata": {},
     "output_type": "execute_result"
    }
   ],
   "source": [
    "clf_rf = RandomForestClassifier(n_estimators=10, max_depth=5, min_samples_leaf=20, max_features=0.5, n_jobs=-1)\n",
    "clf_rf.fit(X_train, y_train)   "
   ]
  },
  {
   "cell_type": "code",
   "execution_count": 10,
   "metadata": {},
   "outputs": [],
   "source": [
    "def show_auc(y, y_pred, plot_label='', prin=True):    \n",
    "    fpr, tpr, _ = roc_curve(y, y_pred)\n",
    "    auc_val = auc(fpr, tpr)\n",
    "    if prin:\n",
    "        print('ROC AUC: {0:.4f}'.format(auc_val))\n",
    "    if plot_label:\n",
    "        plt.plot(fpr, tpr, label=plot_label)\n",
    "        plt.xlabel('FPR')\n",
    "        plt.ylabel('TPR')\n",
    "    return auc_val"
   ]
  },
  {
   "cell_type": "code",
   "execution_count": 11,
   "metadata": {},
   "outputs": [
    {
     "name": "stdout",
     "output_type": "stream",
     "text": [
      "Train RF:\n",
      "ROC AUC: 0.7404\n",
      "Test RF:\n",
      "ROC AUC: 0.7389\n"
     ]
    },
    {
     "data": {
      "image/png": "[encoded data removed]",
      "text/plain": [
       "<Figure size 432x288 with 1 Axes>"
      ]
     },
     "metadata": {
      "needs_background": "light"
     },
     "output_type": "display_data"
    }
   ],
   "source": [
    "y_pred_test_rf = clf_rf.predict_proba(X_test)[:, 1]\n",
    "y_pred_train_rf = clf_rf.predict_proba(X_train)[:, 1]\n",
    "\n",
    "print('Train RF:')\n",
    "show_auc(y_train, y_pred_train_rf, 'train rf')\n",
    "print('Test RF:')\n",
    "show_auc(y_test, y_pred_test_rf, 'test rf')\n",
    "plt.legend();"
   ]
  },
  {
   "cell_type": "markdown",
   "metadata": {},
   "source": [
    "#### Определим важность признаков и выведем для наглядности первые 15"
   ]
  },
  {
   "cell_type": "code",
   "execution_count": 79,
   "metadata": {},
   "outputs": [
    {
     "data": {
      "text/plain": [
       "43     0.538262\n",
       "285    0.100859\n",
       "336    0.073097\n",
       "284    0.046389\n",
       "256    0.041460\n",
       "109    0.032918\n",
       "262    0.030253\n",
       "337    0.027786\n",
       "303    0.025622\n",
       "283    0.013740\n",
       "95     0.008969\n",
       "306    0.007293\n",
       "8      0.006855\n",
       "28     0.006383\n",
       "246    0.005854\n",
       "dtype: float64"
      ]
     },
     "execution_count": 79,
     "metadata": {},
     "output_type": "execute_result"
    }
   ],
   "source": [
    "imp = pd.Series(clf_rf.feature_importances_)\n",
    "imp2 = imp.sort_values(ascending=False).iloc[:15]\n",
    "imp2"
   ]
  },
  {
   "cell_type": "code",
   "execution_count": 80,
   "metadata": {},
   "outputs": [
    {
     "data": {
      "text/plain": [
       "[<matplotlib.axis.YTick at 0x192bd1d1f40>,\n",
       " <matplotlib.axis.YTick at 0x192bc6b7b50>,\n",
       " <matplotlib.axis.YTick at 0x192bcaf9310>,\n",
       " <matplotlib.axis.YTick at 0x192bd201970>,\n",
       " <matplotlib.axis.YTick at 0x192bd201e80>,\n",
       " <matplotlib.axis.YTick at 0x192bd2073d0>,\n",
       " <matplotlib.axis.YTick at 0x192bd2078e0>,\n",
       " <matplotlib.axis.YTick at 0x192bd207df0>,\n",
       " <matplotlib.axis.YTick at 0x192bd208340>,\n",
       " <matplotlib.axis.YTick at 0x192bd207a30>,\n",
       " <matplotlib.axis.YTick at 0x192bd201a90>,\n",
       " <matplotlib.axis.YTick at 0x192bd208850>,\n",
       " <matplotlib.axis.YTick at 0x192bd208d60>,\n",
       " <matplotlib.axis.YTick at 0x192bd20c2b0>,\n",
       " <matplotlib.axis.YTick at 0x192bd20c7c0>]"
      ]
     },
     "execution_count": 80,
     "metadata": {},
     "output_type": "execute_result"
    },
    {
     "data": {
      "image/png": "[encoded data removed]",
      "text/plain": [
       "<Figure size 936x576 with 1 Axes>"
      ]
     },
     "metadata": {
      "needs_background": "light"
     },
     "output_type": "display_data"
    }
   ],
   "source": [
    "fig, axes = plt.subplots(figsize=(13,8))\n",
    "axes.barh(imp2.index, imp2, height=8)\n",
    "ysticks = imp2.index\n",
    "axes.set_yticks (ysticks) "
   ]
  },
  {
   "cell_type": "markdown",
   "metadata": {},
   "source": [
    "#### Обучить стекинг как минимум 3х моделей, использовать хотя бы 1 линейную модель и 1 нелинейную"
   ]
  },
  {
   "cell_type": "markdown",
   "metadata": {},
   "source": [
    "##### Готовим признаки"
   ]
  },
  {
   "cell_type": "code",
   "execution_count": 23,
   "metadata": {},
   "outputs": [],
   "source": [
    "from sklearn.preprocessing import StandardScaler"
   ]
  },
  {
   "cell_type": "code",
   "execution_count": 81,
   "metadata": {},
   "outputs": [
    {
     "data": {
      "text/html": [
       "<div>\n",
       "<style scoped>\n",
       "    .dataframe tbody tr th:only-of-type {\n",
       "        vertical-align: middle;\n",
       "    }\n",
       "\n",
       "    .dataframe tbody tr th {\n",
       "        vertical-align: top;\n",
       "    }\n",
       "\n",
       "    .dataframe thead th {\n",
       "        text-align: right;\n",
       "    }\n",
       "</style>\n",
       "<table border=\"1\" class=\"dataframe\">\n",
       "  <thead>\n",
       "    <tr style=\"text-align: right;\">\n",
       "      <th></th>\n",
       "      <th>v50</th>\n",
       "      <th>v66_C</th>\n",
       "      <th>v110_A</th>\n",
       "      <th>v66_B</th>\n",
       "      <th>v31_A</th>\n",
       "      <th>v129</th>\n",
       "      <th>v47_C</th>\n",
       "      <th>v110_B</th>\n",
       "      <th>v79_B</th>\n",
       "      <th>v66_A</th>\n",
       "      <th>v114</th>\n",
       "      <th>v79_E</th>\n",
       "      <th>v10</th>\n",
       "      <th>v34</th>\n",
       "      <th>v24_D</th>\n",
       "    </tr>\n",
       "  </thead>\n",
       "  <tbody>\n",
       "    <tr>\n",
       "      <th>69453</th>\n",
       "      <td>1.074022</td>\n",
       "      <td>0</td>\n",
       "      <td>0</td>\n",
       "      <td>0</td>\n",
       "      <td>0</td>\n",
       "      <td>2</td>\n",
       "      <td>1</td>\n",
       "      <td>1</td>\n",
       "      <td>1</td>\n",
       "      <td>1</td>\n",
       "      <td>7.829207</td>\n",
       "      <td>0</td>\n",
       "      <td>6.542669</td>\n",
       "      <td>5.789226</td>\n",
       "      <td>0</td>\n",
       "    </tr>\n",
       "    <tr>\n",
       "      <th>111776</th>\n",
       "      <td>4.755337</td>\n",
       "      <td>0</td>\n",
       "      <td>0</td>\n",
       "      <td>0</td>\n",
       "      <td>0</td>\n",
       "      <td>1</td>\n",
       "      <td>1</td>\n",
       "      <td>1</td>\n",
       "      <td>1</td>\n",
       "      <td>1</td>\n",
       "      <td>14.487948</td>\n",
       "      <td>0</td>\n",
       "      <td>5.754924</td>\n",
       "      <td>8.353168</td>\n",
       "      <td>0</td>\n",
       "    </tr>\n",
       "    <tr>\n",
       "      <th>44152</th>\n",
       "      <td>1.398283</td>\n",
       "      <td>0</td>\n",
       "      <td>1</td>\n",
       "      <td>0</td>\n",
       "      <td>1</td>\n",
       "      <td>0</td>\n",
       "      <td>0</td>\n",
       "      <td>0</td>\n",
       "      <td>0</td>\n",
       "      <td>1</td>\n",
       "      <td>15.268617</td>\n",
       "      <td>0</td>\n",
       "      <td>1.575492</td>\n",
       "      <td>7.446043</td>\n",
       "      <td>0</td>\n",
       "    </tr>\n",
       "    <tr>\n",
       "      <th>85374</th>\n",
       "      <td>0.765901</td>\n",
       "      <td>1</td>\n",
       "      <td>0</td>\n",
       "      <td>0</td>\n",
       "      <td>0</td>\n",
       "      <td>1</td>\n",
       "      <td>1</td>\n",
       "      <td>1</td>\n",
       "      <td>1</td>\n",
       "      <td>0</td>\n",
       "      <td>16.755220</td>\n",
       "      <td>0</td>\n",
       "      <td>1.641138</td>\n",
       "      <td>9.193682</td>\n",
       "      <td>0</td>\n",
       "    </tr>\n",
       "    <tr>\n",
       "      <th>23839</th>\n",
       "      <td>0.865673</td>\n",
       "      <td>0</td>\n",
       "      <td>0</td>\n",
       "      <td>1</td>\n",
       "      <td>0</td>\n",
       "      <td>2</td>\n",
       "      <td>1</td>\n",
       "      <td>1</td>\n",
       "      <td>0</td>\n",
       "      <td>0</td>\n",
       "      <td>13.198889</td>\n",
       "      <td>0</td>\n",
       "      <td>3.916849</td>\n",
       "      <td>7.345717</td>\n",
       "      <td>0</td>\n",
       "    </tr>\n",
       "    <tr>\n",
       "      <th>...</th>\n",
       "      <td>...</td>\n",
       "      <td>...</td>\n",
       "      <td>...</td>\n",
       "      <td>...</td>\n",
       "      <td>...</td>\n",
       "      <td>...</td>\n",
       "      <td>...</td>\n",
       "      <td>...</td>\n",
       "      <td>...</td>\n",
       "      <td>...</td>\n",
       "      <td>...</td>\n",
       "      <td>...</td>\n",
       "      <td>...</td>\n",
       "      <td>...</td>\n",
       "      <td>...</td>\n",
       "    </tr>\n",
       "    <tr>\n",
       "      <th>31279</th>\n",
       "      <td>4.450151</td>\n",
       "      <td>0</td>\n",
       "      <td>1</td>\n",
       "      <td>0</td>\n",
       "      <td>1</td>\n",
       "      <td>0</td>\n",
       "      <td>0</td>\n",
       "      <td>0</td>\n",
       "      <td>0</td>\n",
       "      <td>1</td>\n",
       "      <td>15.127501</td>\n",
       "      <td>0</td>\n",
       "      <td>2.363239</td>\n",
       "      <td>6.863878</td>\n",
       "      <td>0</td>\n",
       "    </tr>\n",
       "    <tr>\n",
       "      <th>44202</th>\n",
       "      <td>0.331596</td>\n",
       "      <td>0</td>\n",
       "      <td>1</td>\n",
       "      <td>1</td>\n",
       "      <td>1</td>\n",
       "      <td>0</td>\n",
       "      <td>0</td>\n",
       "      <td>0</td>\n",
       "      <td>0</td>\n",
       "      <td>0</td>\n",
       "      <td>12.061450</td>\n",
       "      <td>0</td>\n",
       "      <td>0.743983</td>\n",
       "      <td>4.672836</td>\n",
       "      <td>0</td>\n",
       "    </tr>\n",
       "    <tr>\n",
       "      <th>29175</th>\n",
       "      <td>0.758565</td>\n",
       "      <td>0</td>\n",
       "      <td>0</td>\n",
       "      <td>1</td>\n",
       "      <td>0</td>\n",
       "      <td>2</td>\n",
       "      <td>1</td>\n",
       "      <td>1</td>\n",
       "      <td>0</td>\n",
       "      <td>0</td>\n",
       "      <td>7.151597</td>\n",
       "      <td>0</td>\n",
       "      <td>4.442014</td>\n",
       "      <td>4.260022</td>\n",
       "      <td>1</td>\n",
       "    </tr>\n",
       "    <tr>\n",
       "      <th>95443</th>\n",
       "      <td>0.852469</td>\n",
       "      <td>0</td>\n",
       "      <td>0</td>\n",
       "      <td>1</td>\n",
       "      <td>1</td>\n",
       "      <td>0</td>\n",
       "      <td>1</td>\n",
       "      <td>1</td>\n",
       "      <td>0</td>\n",
       "      <td>0</td>\n",
       "      <td>6.898787</td>\n",
       "      <td>1</td>\n",
       "      <td>1.816192</td>\n",
       "      <td>2.456050</td>\n",
       "      <td>0</td>\n",
       "    </tr>\n",
       "    <tr>\n",
       "      <th>64232</th>\n",
       "      <td>1.663855</td>\n",
       "      <td>0</td>\n",
       "      <td>1</td>\n",
       "      <td>0</td>\n",
       "      <td>1</td>\n",
       "      <td>0</td>\n",
       "      <td>0</td>\n",
       "      <td>0</td>\n",
       "      <td>0</td>\n",
       "      <td>1</td>\n",
       "      <td>11.799041</td>\n",
       "      <td>0</td>\n",
       "      <td>1.050328</td>\n",
       "      <td>4.276169</td>\n",
       "      <td>0</td>\n",
       "    </tr>\n",
       "  </tbody>\n",
       "</table>\n",
       "<p>34297 rows × 15 columns</p>\n",
       "</div>"
      ],
      "text/plain": [
       "             v50  v66_C  v110_A  v66_B  v31_A  v129  v47_C  v110_B  v79_B  \\\n",
       "69453   1.074022      0       0      0      0     2      1       1      1   \n",
       "111776  4.755337      0       0      0      0     1      1       1      1   \n",
       "44152   1.398283      0       1      0      1     0      0       0      0   \n",
       "85374   0.765901      1       0      0      0     1      1       1      1   \n",
       "23839   0.865673      0       0      1      0     2      1       1      0   \n",
       "...          ...    ...     ...    ...    ...   ...    ...     ...    ...   \n",
       "31279   4.450151      0       1      0      1     0      0       0      0   \n",
       "44202   0.331596      0       1      1      1     0      0       0      0   \n",
       "29175   0.758565      0       0      1      0     2      1       1      0   \n",
       "95443   0.852469      0       0      1      1     0      1       1      0   \n",
       "64232   1.663855      0       1      0      1     0      0       0      0   \n",
       "\n",
       "        v66_A       v114  v79_E       v10       v34  v24_D  \n",
       "69453       1   7.829207      0  6.542669  5.789226      0  \n",
       "111776      1  14.487948      0  5.754924  8.353168      0  \n",
       "44152       1  15.268617      0  1.575492  7.446043      0  \n",
       "85374       0  16.755220      0  1.641138  9.193682      0  \n",
       "23839       0  13.198889      0  3.916849  7.345717      0  \n",
       "...       ...        ...    ...       ...       ...    ...  \n",
       "31279       1  15.127501      0  2.363239  6.863878      0  \n",
       "44202       0  12.061450      0  0.743983  4.672836      0  \n",
       "29175       0   7.151597      0  4.442014  4.260022      1  \n",
       "95443       0   6.898787      1  1.816192  2.456050      0  \n",
       "64232       1  11.799041      0  1.050328  4.276169      0  \n",
       "\n",
       "[34297 rows x 15 columns]"
      ]
     },
     "execution_count": 81,
     "metadata": {},
     "output_type": "execute_result"
    }
   ],
   "source": [
    "X2_train = X_train.iloc[:, imp2.index]\n",
    "X2_test = X_test.iloc[:, imp2.index]\n",
    "X2_test"
   ]
  },
  {
   "cell_type": "code",
   "execution_count": 73,
   "metadata": {},
   "outputs": [],
   "source": [
    "from sklearn.linear_model import LogisticRegression\n",
    "from sklearn.tree import DecisionTreeClassifier\n",
    "from sklearn.neighbors import KNeighborsClassifier\n",
    "from sklearn.ensemble import StackingClassifier\n",
    "from sklearn.pipeline import make_pipeline\n",
    "from sklearn.model_selection import cross_val_score"
   ]
  },
  {
   "cell_type": "markdown",
   "metadata": {
    "tags": []
   },
   "source": [
    "##### Обучаем классификаторы: Логистическая регрессия, Дерево решений, k-ближайших соседей, Случайный лес "
   ]
  },
  {
   "cell_type": "markdown",
   "metadata": {},
   "source": [
    "##### Объединяем классификаторы в ансамбль и обучаем стекинг"
   ]
  },
  {
   "cell_type": "code",
   "execution_count": 82,
   "metadata": {
    "tags": []
   },
   "outputs": [],
   "source": [
    "estimators = [\n",
    "    ('lr', make_pipeline(StandardScaler(), LogisticRegression(penalty='l2', C=0.001, solver='lbfgs', random_state=42))),\n",
    "    ('dt', DecisionTreeClassifier(max_depth=1, criterion='entropy', random_state=42)),\n",
    "    ('kn', make_pipeline(StandardScaler(), KNeighborsClassifier(n_neighbors=1, p=2, metric='minkowski'))),\n",
    "    ('rf', RandomForestClassifier(n_estimators=10, random_state=42))    \n",
    "     ]"
   ]
  },
  {
   "cell_type": "code",
   "execution_count": 83,
   "metadata": {},
   "outputs": [],
   "source": [
    "classifier = StackingClassifier(estimators=estimators, final_estimator=LogisticRegression())"
   ]
  },
  {
   "cell_type": "code",
   "execution_count": 84,
   "metadata": {},
   "outputs": [
    {
     "data": {
      "text/plain": [
       "StackingClassifier(estimators=[('lr',\n",
       "                                Pipeline(steps=[('standardscaler',\n",
       "                                                 StandardScaler()),\n",
       "                                                ('logisticregression',\n",
       "                                                 LogisticRegression(C=0.001,\n",
       "                                                                    random_state=42))])),\n",
       "                               ('dt',\n",
       "                                DecisionTreeClassifier(criterion='entropy',\n",
       "                                                       max_depth=1,\n",
       "                                                       random_state=42)),\n",
       "                               ('kn',\n",
       "                                Pipeline(steps=[('standardscaler',\n",
       "                                                 StandardScaler()),\n",
       "                                                ('kneighborsclassifier',\n",
       "                                                 KNeighborsClassifier(n_neighbors=1))])),\n",
       "                               ('rf',\n",
       "                                RandomForestClassifier(n_estimators=10,\n",
       "                                                       random_state=42))],\n",
       "                   final_estimator=LogisticRegression())"
      ]
     },
     "execution_count": 84,
     "metadata": {},
     "output_type": "execute_result"
    }
   ],
   "source": [
    "classifier.fit(X2_train, y_train)"
   ]
  },
  {
   "cell_type": "code",
   "execution_count": 85,
   "metadata": {},
   "outputs": [
    {
     "data": {
      "text/plain": [
       "Pipeline(steps=[('standardscaler', StandardScaler()),\n",
       "                ('logisticregression',\n",
       "                 LogisticRegression(C=0.001, random_state=42))])"
      ]
     },
     "execution_count": 85,
     "metadata": {},
     "output_type": "execute_result"
    }
   ],
   "source": [
    "classifier.named_estimators_['lr']"
   ]
  },
  {
   "cell_type": "code",
   "execution_count": 86,
   "metadata": {},
   "outputs": [
    {
     "name": "stdout",
     "output_type": "stream",
     "text": [
      "LR\n",
      "ROC AUC: 0.7287\n",
      "DT\n",
      "ROC AUC: 0.6330\n",
      "KN\n",
      "ROC AUC: 0.5822\n",
      "RF\n",
      "ROC AUC: 0.6831\n",
      "STACK\n",
      "ROC AUC: 0.7342\n"
     ]
    },
    {
     "data": {
      "image/png": "[encoded data removed]",
      "text/plain": [
       "<Figure size 432x288 with 1 Axes>"
      ]
     },
     "metadata": {
      "needs_background": "light"
     },
     "output_type": "display_data"
    }
   ],
   "source": [
    "y_pred_proba_lr = classifier.named_estimators_['lr'].predict_proba(X2_test)[:,1]\n",
    "y_pred_proba_dt = classifier.named_estimators_['dt'].predict_proba(X2_test)[:,1]\n",
    "y_pred_proba_kn = classifier.named_estimators_['kn'].predict_proba(X2_test)[:,1]\n",
    "y_pred_proba_rf = classifier.named_estimators_['rf'].predict_proba(X2_test)[:,1]\n",
    "y_pred_proba = classifier.predict_proba(X2_test)[:,1]\n",
    "print(\"LR\")\n",
    "show_auc(y_test, y_pred_proba_lr, 'LR')\n",
    "print(\"DT\")\n",
    "show_auc(y_test, y_pred_proba_dt, 'DT')\n",
    "print(\"KN\")\n",
    "show_auc(y_test, y_pred_proba_kn, 'KN')\n",
    "print(\"RF\")\n",
    "show_auc(y_test, y_pred_proba_rf, 'RF')\n",
    "print(\"STACK\")\n",
    "show_auc(y_test, y_pred_proba, 'STACK')\n",
    "plt.legend()\n",
    "plt.show()"
   ]
  },
  {
   "cell_type": "markdown",
   "metadata": {},
   "source": [
    "##### Стек дал лучшую оценку"
   ]
  }
 ],
 "metadata": {
  "colab": {
   "name": "Ансамблевые модели.ipynb",
   "provenance": []
  },
  "kernelspec": {
   "display_name": "Python 3",
   "language": "python",
   "name": "python3"
  },
  "language_info": {
   "codemirror_mode": {
    "name": "ipython",
    "version": 3
   },
   "file_extension": ".py",
   "mimetype": "text/x-python",
   "name": "python",
   "nbconvert_exporter": "python",
   "pygments_lexer": "ipython3",
   "version": "3.8.3"
  },
  "varInspector": {
   "cols": {
    "lenName": 16,
    "lenType": 16,
    "lenVar": 40
   },
   "kernels_config": {
    "python": {
     "delete_cmd_postfix": "",
     "delete_cmd_prefix": "del ",
     "library": "var_list.py",
     "varRefreshCmd": "print(var_dic_list())"
    },
    "r": {
     "delete_cmd_postfix": ") ",
     "delete_cmd_prefix": "rm(",
     "library": "var_list.r",
     "varRefreshCmd": "cat(var_dic_list()) "
    }
   },
   "types_to_exclude": [
    "module",
    "function",
    "builtin_function_or_method",
    "instance",
    "_Feature"
   ],
   "window_display": false
  }
 },
 "nbformat": 4,
 "nbformat_minor": 4
}
